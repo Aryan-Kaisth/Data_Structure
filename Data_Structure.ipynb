{
  "nbformat": 4,
  "nbformat_minor": 0,
  "metadata": {
    "colab": {
      "provenance": []
    },
    "kernelspec": {
      "name": "python3",
      "display_name": "Python 3"
    },
    "language_info": {
      "name": "python"
    }
  },
  "cells": [
    {
      "cell_type": "markdown",
      "source": [
        "# Question 1\n",
        "\n",
        "---\n",
        "**Ans:** String slicing is basically the process of extracting a portion of a string. The start, stop, and step are referred to as the slice parameters.\n",
        "\n",
        "\n",
        "1. **Start:** Starting index (Inclusive)\n",
        "2. **Stop:** Ending index (Exclusive)\n",
        "3. **Step:** Interval between characters (It goes from left to right)\n",
        "\n",
        "These parameters let you customize which part of the string you want to extract and how you want to extract it.\n",
        "\n",
        "\n",
        "\n",
        "\n",
        "\n",
        "\n",
        "\n"
      ],
      "metadata": {
        "id": "FPZDqUvwuin7"
      }
    },
    {
      "cell_type": "code",
      "source": [
        "text = \"My name is aryan\"\n",
        "\n",
        "# Example 1\n",
        "slice1 = text[0:9]\n",
        "print(\"Slice 1:\", slice1)  # Output: My name is\n",
        "\n",
        "# Example 2\n",
        "slice2 = text[:11]\n",
        "print(\"Slice 2:\", slice2)  # Output: My name is a\n",
        "\n",
        "# Example 3\n",
        "slice3 = text[11:]\n",
        "print(\"Slice 3:\", slice3)  # Output: aryan\n",
        "\n",
        "# Example 4\n",
        "slice4 = text[0:15:2]\n",
        "print(\"Slice 4:\", slice4)  # Output: M nae sayn\n"
      ],
      "metadata": {
        "colab": {
          "base_uri": "https://localhost:8080/"
        },
        "id": "Blc63Zxpwly5",
        "outputId": "7c2a655e-3130-467e-883a-8c76f63d8b8c"
      },
      "execution_count": 26,
      "outputs": [
        {
          "output_type": "stream",
          "name": "stdout",
          "text": [
            "Slice 1: My name i\n",
            "Slice 2: My name is \n",
            "Slice 3: aryan\n",
            "Slice 4: M aei ra\n"
          ]
        }
      ]
    },
    {
      "cell_type": "markdown",
      "source": [
        "# Question 2\n",
        "\n",
        "\n",
        "---\n",
        "**Ans**: list is a data structure used to store a collection of items.\n",
        "\n",
        "key features of list:\n",
        "1. **Mutable:** Lists can be modified after creation. You can change, add, or remove elements from list after they are created.\n",
        "2. **Ordered**: The position of elements in the list is preserved so the order of elements will always be same in the list.\n",
        "3. **Heterogeneous:** List can store elements of different data types no matter whether it is integer, float, string,etc\n",
        "4. **Allow Duplicacy:** Lists can contain duplicate elements.\n",
        "5. **Indexd:** Each element has an index, starting from 0 for the first element.\n",
        "\n",
        "\n"
      ],
      "metadata": {
        "id": "KbkwA07FxZ8k"
      }
    },
    {
      "cell_type": "markdown",
      "source": [
        "# Question 3\n",
        "\n",
        "\n",
        "---\n",
        "**ANS:**\n",
        "\n",
        "1. Accessing elements in list: You access elements in a list using their index. In python the first item is at 0 index.\n",
        "2. To modify an element, you use its index and assign a new value.\n",
        "3. You can delete elements using the del statement, or by using pop(), remove()\n",
        "\n",
        "\n"
      ],
      "metadata": {
        "id": "np-9SSzi0X_h"
      }
    },
    {
      "cell_type": "code",
      "source": [
        "# Creating a list\n",
        "my_list = ['apple', 'banana', 'cherry']\n",
        "\n",
        "# Accessing elements\n",
        "print(my_list[0])  # Output: apple  (First element)\n",
        "print(my_list[1])  # Output: banana (Second element)\n",
        "print(my_list[2])  # Output: cherry (Third element)\n"
      ],
      "metadata": {
        "colab": {
          "base_uri": "https://localhost:8080/"
        },
        "id": "FK6cYH0m32xL",
        "outputId": "ab8bd125-5ee4-44da-9f97-4590111d5137"
      },
      "execution_count": 27,
      "outputs": [
        {
          "output_type": "stream",
          "name": "stdout",
          "text": [
            "apple\n",
            "banana\n",
            "cherry\n"
          ]
        }
      ]
    },
    {
      "cell_type": "code",
      "source": [
        "# Creating a list\n",
        "my_list = ['apple', 'banana', 'cherry']\n",
        "\n",
        "# Modifying elements\n",
        "my_list[1] = 'blueberry'\n",
        "print(my_list)  # Output: ['apple', 'blueberry', 'cherry']  (Second element changed)\n"
      ],
      "metadata": {
        "colab": {
          "base_uri": "https://localhost:8080/"
        },
        "id": "dlq1eNib35jy",
        "outputId": "97ad6bd5-da41-4806-f7fc-53927483c3ad"
      },
      "execution_count": 28,
      "outputs": [
        {
          "output_type": "stream",
          "name": "stdout",
          "text": [
            "['apple', 'blueberry', 'cherry']\n"
          ]
        }
      ]
    },
    {
      "cell_type": "code",
      "source": [
        "# Creating a list\n",
        "my_list = ['apple', 'banana', 'cherry']\n",
        "\n",
        "# Deleting an element by index using del\n",
        "del my_list[1]\n",
        "print(my_list)  # Output: ['apple', 'cherry']  (Second element removed)\n"
      ],
      "metadata": {
        "colab": {
          "base_uri": "https://localhost:8080/"
        },
        "id": "VtqwIAux4B0m",
        "outputId": "190da2bb-da95-41dc-989b-53faa3a76090"
      },
      "execution_count": 29,
      "outputs": [
        {
          "output_type": "stream",
          "name": "stdout",
          "text": [
            "['apple', 'cherry']\n"
          ]
        }
      ]
    },
    {
      "cell_type": "code",
      "source": [
        "# Creating a list\n",
        "my_list = ['apple', 'banana', 'cherry']\n",
        "\n",
        "# Removing an element by value using .remove()\n",
        "my_list.remove('banana')\n",
        "print(my_list)  # Output: ['apple', 'cherry']  (Element with value 'banana' removed)"
      ],
      "metadata": {
        "colab": {
          "base_uri": "https://localhost:8080/"
        },
        "id": "bqwx0DnR55pw",
        "outputId": "33dc25e2-fe38-4928-f8c9-ea6a4a020610"
      },
      "execution_count": 30,
      "outputs": [
        {
          "output_type": "stream",
          "name": "stdout",
          "text": [
            "['apple', 'cherry']\n"
          ]
        }
      ]
    },
    {
      "cell_type": "code",
      "source": [
        "# Creating a list\n",
        "my_list = ['apple', 'banana', 'cherry']\n",
        "\n",
        "# Popping the last item using .pop()\n",
        "last_item = my_list.pop()\n",
        "print(last_item)  # Output: cherry\n",
        "print(my_list)    # Output: ['apple', 'banana']\n"
      ],
      "metadata": {
        "colab": {
          "base_uri": "https://localhost:8080/"
        },
        "id": "Pl6LSpvU5E-o",
        "outputId": "275f1c77-89fe-4de0-a205-f2a73a2c9955"
      },
      "execution_count": 31,
      "outputs": [
        {
          "output_type": "stream",
          "name": "stdout",
          "text": [
            "cherry\n",
            "['apple', 'banana']\n"
          ]
        }
      ]
    },
    {
      "cell_type": "markdown",
      "source": [
        "# Question 4\n",
        "\n",
        "\n",
        "---\n",
        "**Definition**\n",
        "\n",
        "* List: A list is a data structure in Python used to store an ordered collection of items. Lists are mutable.\n",
        "\n",
        "* Tuple: A tuple is also a data structure in Python used to store an ordered collection of items. Tuples are immutable.\n",
        "\n",
        "**Mutability**\n",
        "\n",
        "* List: Lists are mutable. This means you can modify their contents after creation. You can add new elements, remove existing elements, or change the value of elements.\n",
        "\n",
        "* Tuple: Tuples are immutable. Once a tuple is created, you cannot change its contents. This means you cannot add, remove, or modify elements in a tuple.\n",
        "\n",
        "**Syntax**\n",
        "\n",
        "* List: Lists are defined using square brackets [ ]. Items are separated by commas.\n",
        "\n",
        "* Tuple: Tuples are defined using parentheses ( ). Items are separated by commas.\n",
        "\n",
        "**Both Lists and Tuples**\n",
        "\n",
        "* Store Collections: Both can store multiple items in a single variable.\n",
        "\n",
        "* Indexing: Both support indexing.\n",
        "\n",
        "* Heterogeneous : Both can store elements of different data types."
      ],
      "metadata": {
        "id": "D8m6xDBQ6UJ7"
      }
    },
    {
      "cell_type": "code",
      "source": [
        "# Demonstrating mutability with lists\n",
        "my_list = [1, 2, 3, 'apple'] # list can store multiple values of different data type\n",
        "my_list[2] = 'changed'\n",
        "print(\"Modified list:\", my_list)  # Output: [1, 2, 'changed', 'apple']\n",
        "\n",
        "# Demonstrating immutability with tuples\n",
        "my_tuple = (1, 2, 3, 'apple') # tuple can also store multiple values of different data type\n",
        "my_tuple[2] = 'changed' # error will come\n",
        "\n",
        "#  Demonstrating indexing in both list and tuple\n",
        "print(my_list[1]) # output: 2\n",
        "print(my_tuple[2]) # output: 3"
      ],
      "metadata": {
        "collapsed": true,
        "id": "OE5e_RQN9_qe"
      },
      "execution_count": null,
      "outputs": []
    },
    {
      "cell_type": "markdown",
      "source": [
        "# Question 5\n",
        "\n",
        "\n",
        "---\n",
        "**Key Features of Sets**\n",
        "\n",
        "Definition: Sets in python are unordered collection of unique elements.\n",
        "\n",
        "1. Unordered: Sets do not maintain any specific order for their elements. Their position can change hence indexing will not work.\n",
        "\n",
        "2. Unique Elements: Sets automatically ensure that all elements are unique. Hence, duplicate items are not allowed.\n",
        "\n",
        "3. Mutable: You can add or remove items from a set after it is created. However, the items themselves must be immutable (e.g., numbers, strings, tuples).\n",
        "\n",
        "4. No Indexing: Sets do not support indexing, slicing, or other sequence-like behaviors. As there is no order you cannot access elements by their position.\n",
        "\n",
        "5. You can also apply set operation (studied in maths) like union, intersection, difference, symmetric difference.\n",
        "\n",
        "**Use Case**\n",
        "\n",
        "1. Use Case: Removing Duplicates\n",
        "\n",
        "  You are organizing an event, and you receive a list of registered attendees. Some people accidentally registered twice. You need to remove duplicates and keep only the unique names.\n",
        "\n",
        "2.  Use Case: Set Operations (Union, Intersection, Difference)\n",
        "  You are managing a retail chain with two stores. You want to see which products are available in both stores, which products are only in one store, and all products sold across both stores.\n"
      ],
      "metadata": {
        "id": "ucYxsVcPAWz_"
      }
    },
    {
      "cell_type": "code",
      "source": [
        "# List of attendees, with some duplicates\n",
        "attendees = ['Aryan', 'John', 'Aryan', 'Emily', 'John', 'Alice']\n",
        "\n",
        "# Convert the list to a set to remove duplicates\n",
        "unique_attendees = set(attendees)\n",
        "\n",
        "# Output the unique list of attendees\n",
        "print(unique_attendees)  # Output: {'Aryan', 'John', 'Emily', 'Alice'}"
      ],
      "metadata": {
        "colab": {
          "base_uri": "https://localhost:8080/"
        },
        "id": "f9TEKQLZBi00",
        "outputId": "53be2b20-3529-4b11-ece4-243e78ed47b7"
      },
      "execution_count": 34,
      "outputs": [
        {
          "output_type": "stream",
          "name": "stdout",
          "text": [
            "{'John', 'Emily', 'Aryan', 'Alice'}\n"
          ]
        }
      ]
    },
    {
      "cell_type": "code",
      "source": [
        "# Products in two different stores\n",
        "store_a = {'laptop', 'mouse', 'keyboard', 'monitor'}\n",
        "store_b = {'keyboard', 'monitor', 'printer', 'tablet'}\n",
        "\n",
        "# Products available in both stores (intersection)\n",
        "common_products = store_a & store_b\n",
        "print(\"Common Products:\", common_products)  # Output: {'keyboard', 'monitor'}\n",
        "\n",
        "# Products available only in store_a (difference)\n",
        "unique_store_a = store_a - store_b\n",
        "print(\"Products only in Store A:\", unique_store_a)  # Output: {'laptop', 'mouse'}\n",
        "\n",
        "# All products available across both stores (union)\n",
        "all_products = store_a | store_b\n",
        "print(\"All Products:\", all_products)  # Output: {'laptop', 'mouse', 'keyboard', 'monitor', 'printer', 'tablet'}\n"
      ],
      "metadata": {
        "colab": {
          "base_uri": "https://localhost:8080/"
        },
        "id": "P81e4NCnCLwV",
        "outputId": "988f4d79-5e4f-4b34-b757-0692e97dd89e"
      },
      "execution_count": 35,
      "outputs": [
        {
          "output_type": "stream",
          "name": "stdout",
          "text": [
            "Common Products: {'keyboard', 'monitor'}\n",
            "Products only in Store A: {'laptop', 'mouse'}\n",
            "All Products: {'monitor', 'tablet', 'keyboard', 'mouse', 'printer', 'laptop'}\n"
          ]
        }
      ]
    },
    {
      "cell_type": "code",
      "source": [
        "# Mutability of sets\n",
        "fruits = {'apple', 'banana', 'cherry'}\n",
        "\n",
        "# 1. Adding an element to the set\n",
        "fruits.add('orange')\n",
        "print(\"After adding 'orange':\", fruits)  # Output: {'apple', 'banana', 'cherry', 'orange'}\n",
        "\n",
        "# 2. Removing an element from the set\n",
        "fruits.remove('banana')\n",
        "print(\"After removing 'banana':\", fruits)  # Output: {'apple', 'cherry', 'orange'}"
      ],
      "metadata": {
        "colab": {
          "base_uri": "https://localhost:8080/"
        },
        "id": "cx81mTDLP41N",
        "outputId": "372c045e-2705-4234-ca0a-604f3d248985"
      },
      "execution_count": 37,
      "outputs": [
        {
          "output_type": "stream",
          "name": "stdout",
          "text": [
            "After adding 'orange': {'orange', 'banana', 'apple', 'cherry'}\n",
            "After removing 'banana': {'orange', 'apple', 'cherry'}\n"
          ]
        }
      ]
    },
    {
      "cell_type": "markdown",
      "source": [
        "# Question 6\n",
        "\n",
        "\n",
        "---\n",
        "**Use Cases of Tuples**\n",
        "\n",
        "1. Storing Fixed Data: Tuples can be used when you need to store data that should not change throughout the program.\n",
        "\n",
        "  Example: Storing geographic coordinates (latitude, longitude).\n",
        "2. Accessing Elements by Index: Since tuples are ordered, they allow you to access their elements using indexing.\n",
        "\n",
        "  Example: Accessing elements in a tuple to retrieve specific information (like a date or coordinates).\n",
        "\n",
        "**Use Cases of Sets**\n",
        "\n",
        "1. Removing Duplicates: One of the primary use cases for sets is to remove duplicates from a list of items.\n",
        "\n",
        "2. Sets can be used to find all unique elements across several lists. By combining sets with operations like union, you can easily collect distinct items from different collections.\n",
        "\n",
        "  Example: Removing duplicate email addresses from a list."
      ],
      "metadata": {
        "id": "8VL4Nqf1C7jl"
      }
    },
    {
      "cell_type": "code",
      "source": [
        "# 1. Use case of tuples: Storing fixed data\n",
        "coordinates = (40.7128, -74.0060)  # Tuple for latitude and longitude\n",
        "print(\"Coordinates:\", coordinates)\n",
        "\n",
        "# 2. Use case of Indexing\n",
        "person = ('Aryan', 20, 'Student')\n",
        "name = person[0]    # Output: 'Aryan'\n",
        "age = person[1]     # Output: 20\n",
        "occupation = person[2]  # Output: 'Student'\n",
        "\n",
        "print(\"Name:\", name)\n",
        "print(\"Age:\", age)\n",
        "print(\"Occupation:\", occupation)\n",
        "\n",
        "# 1. Use case of sets: Removing duplicates\n",
        "emails = ['a@example.com', 'b@example.com', 'a@example.com', 'c@example.com']\n",
        "unique_emails = set(emails)  # Removing duplicates\n",
        "print(\"Unique emails:\", unique_emails)\n",
        "\n",
        "# 2. Use case of sets: Finding unique items across multiple lists\n",
        "recipe_1 = {'flour', 'sugar', 'butter'}\n",
        "recipe_2 = {'sugar', 'eggs', 'milk'}\n",
        "recipe_3 = {'flour', 'chocolate', 'eggs'}\n",
        "unique_ingredients = recipe_1 | recipe_2 | recipe_3  # Union of sets\n",
        "print(\"Unique ingredients across all recipes:\", unique_ingredients)"
      ],
      "metadata": {
        "colab": {
          "base_uri": "https://localhost:8080/"
        },
        "id": "VObDCk32FDqT",
        "outputId": "24fe7fcc-cd08-4bd7-eb2c-10aac92fa855"
      },
      "execution_count": 36,
      "outputs": [
        {
          "output_type": "stream",
          "name": "stdout",
          "text": [
            "Coordinates: (40.7128, -74.006)\n",
            "Name: Aryan\n",
            "Age: 20\n",
            "Occupation: Student\n",
            "Unique emails: {'b@example.com', 'a@example.com', 'c@example.com'}\n",
            "Unique ingredients across all recipes: {'eggs', 'chocolate', 'milk', 'butter', 'flour', 'sugar'}\n"
          ]
        }
      ]
    },
    {
      "cell_type": "markdown",
      "source": [
        "# Question 7\n",
        "\n",
        "\n",
        "---\n",
        "**Add:** To add a new item, specify a key and assign a value to it.\n",
        "\n",
        "**Modify:** To modify an existing item, update the value associated with a specific key.\n",
        "\n",
        "**Delete:** To delete an item, you can use the del keyword or the .pop() method.\n",
        "\n",
        "\n"
      ],
      "metadata": {
        "id": "xy6ZXoUcHjrG"
      }
    },
    {
      "cell_type": "code",
      "source": [
        "person = {'name': 'Aryan', 'age': 20}\n",
        "\n",
        "# Add a new key-value pair\n",
        "person['occupation'] = 'Student'\n",
        "print(person)  # Output: {'name': 'Aryan', 'age': 20, 'occupation': 'Student'}\n",
        "\n",
        "# Modify the value for an existing key\n",
        "person['age'] = 21\n",
        "print(person)  # Output: {'name': 'Aryan', 'age': 21, 'occupation': 'Student'}\n",
        "\n",
        "# Delete a key-value pair using 'del'\n",
        "del person['occupation']\n",
        "print(person)  # Output: {'name': 'Aryan', 'age': 21}\n",
        "\n",
        "# Delete a key-value pair using '.pop()'\n",
        "age = person.pop('age')\n",
        "print(person)  # Output: {'name': 'Aryan'}\n",
        "\n"
      ],
      "metadata": {
        "colab": {
          "base_uri": "https://localhost:8080/"
        },
        "id": "G_EIyGhsIiS6",
        "outputId": "e3c0ec67-157d-45de-ede4-058ea082810c"
      },
      "execution_count": 38,
      "outputs": [
        {
          "output_type": "stream",
          "name": "stdout",
          "text": [
            "{'name': 'Aryan', 'age': 20, 'occupation': 'Student'}\n",
            "{'name': 'Aryan', 'age': 21, 'occupation': 'Student'}\n",
            "{'name': 'Aryan', 'age': 21}\n",
            "{'name': 'Aryan'}\n"
          ]
        }
      ]
    },
    {
      "cell_type": "markdown",
      "source": [
        "# Question 8\n",
        "\n",
        "\n",
        "---\n",
        "1. Consistency: If a key could change, the dictionary wouldn't be able to consistently find or retrieve values associated with that key in the memory block.\n",
        "\n",
        "2. Hashing: Immutable keys have fixed hash values, which allows Python to quickly access the data.\n",
        "\n",
        "3. Preventing Errors: Allowing mutable types (like lists or sets) as keys could lead to unpredictable behavior and make the program harder to debug.\n",
        "\n",
        " Mutable types, such as lists or dictionaries, are not allowed as keys because they can be changed after being created.\n",
        "\n",
        " Here a super example to show why keys should be immutable in dictionaries."
      ],
      "metadata": {
        "id": "G9A4jZjhKXca"
      }
    },
    {
      "cell_type": "code",
      "source": [
        "# Imagine we could use a list as a key (for the sake of example). This is not allowed, but let's say it were possible\n",
        "my_dict = {[1, 2, 3]: \"Value1\"}\n",
        "\n",
        "# Now, we change the list (because lists are mutable)\n",
        "key = [1, 2, 3]\n",
        "key.append(4)  # Now the list is [1, 2, 3, 4]\n",
        "\n",
        "# Trying to access the original key in the dictionary\n",
        "# The original key was [1, 2, 3], but now it's changed!\n",
        "print(my_dict[key])  # This would result in an error because the key has changed.\n",
        " # Thats why its so important that we can not change keys in a dictionary."
      ],
      "metadata": {
        "id": "FH89cxFsL-Sq"
      },
      "execution_count": null,
      "outputs": []
    }
  ]
}